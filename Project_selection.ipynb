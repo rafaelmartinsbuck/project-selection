{
 "cells": [
  {
   "cell_type": "markdown",
   "metadata": {},
   "source": [
    "# Selecting the right projects in a business portfolio\n",
    "\n",
    "\n",
    "## 1. Introduction\n",
    "\n",
    "One of the most important deliverables of a project portfolio management is to maximize the mix of projects to drive the highest possible corporate value. It is important to establish an enterprise-wide prioritization process that objectively and continuously evaluates projects and programmes to help maximize and realize the value from the investment.\n",
    "\n",
    "## 2. Problem\n",
    "\n",
    "This sounds like a combinatorial optimization problem. Like the [Knapsack Problem](https://en.wikipedia.org/wiki/Knapsack_problem), given a set of items, each with a weight and a value, determine the number of each item to include in a collection so that the total weight is less than or equal to a given limit and the total value is as large as possible. Try combinate all items in a \"Brute Force\" strategy is O(2^n) time! So we need use dynamic programming to deal with more projects. Using dynamic programming, we achieve O(nW) (Pseudo-polynomial time) what is much better.\n",
    "\n",
    "## 3. Solution\n",
    "\n",
    "In this analysis we will work only with 2 dimensions: \n",
    "- Size of the project (effort in man-month)\n",
    "- Value of the project (return in USD million)\n",
    "\n",
    "We want to maximize the financial return using the maximum available capacity of the company. So, use knapsack approach with dynamic programming to solve this problem is an interesting choice. "
   ]
  },
  {
   "cell_type": "markdown",
   "metadata": {},
   "source": [
    "### 3.1 Model"
   ]
  },
  {
   "cell_type": "code",
   "execution_count": 15,
   "metadata": {
    "collapsed": true
   },
   "outputs": [],
   "source": [
    "# Each project to be packed is represented as a set of triples (size, value, name)\n",
    "def projectSize(project): return project[0] # Size of the project in man-month\n",
    "def projectValue(project): return project[1] # Value of the project in USD million\n",
    "def projectName(project): return project[2] # Name of the project"
   ]
  },
  {
   "cell_type": "code",
   "execution_count": 16,
   "metadata": {
    "collapsed": true
   },
   "outputs": [],
   "source": [
    "# Example of business project portfolio\n",
    "exampleProjects = [(3, 3, 'A'),\n",
    "                   (4, 1, 'B'),\n",
    "                   (8, 3, 'C'),\n",
    "                   (10, 4, 'D'),\n",
    "                   (15, 3, 'E'),\n",
    "                   (20, 6, 'F')]\n",
    "\n",
    "# Example of team size in a period (one year for example)\n",
    "exampleSizeLimit = 32"
   ]
  },
  {
   "cell_type": "code",
   "execution_count": 39,
   "metadata": {
    "collapsed": true
   },
   "outputs": [],
   "source": [
    "def knapsack(projects, sizeLimit):\n",
    "    \"\"\" Solve project selection with a knapsack problem approach.\n",
    "    Args:\n",
    "        projects: project list.\n",
    "        sizeLimit: maximum size.\n",
    "    Returns:\n",
    "        A list of selected projects, the total size and the total value of portfolio.\n",
    "    \"\"\"\n",
    "    # Dynamic programming to build the matrix\n",
    "    KS = {}\n",
    "    for p in range(len(projects) + 1): # 0 to number of projects\n",
    "        for lim in range(sizeLimit + 1): # 0 to sizeLimit\n",
    "            if p == 0: # If current size equals zero, the value must be zero\n",
    "                KS[p, lim] = 0\n",
    "            elif projectSize(projects[p-1]) > lim: # If > current size, not enter in knapsack\n",
    "                KS[p, lim] = KS[p-1, lim]\n",
    "            else: # If > current size, update knapsack value when it is possible\n",
    "                KS[p, lim] = max(KS[p-1, lim], # Actual solution for this lim\n",
    "                                 KS[p-1, lim - projectSize(projects[p-1])] + \n",
    "                                 projectValue(projects[p-1])) # The last value without the item\n",
    "                                                              # plus this value\n",
    "    \n",
    "    # List of selected items \n",
    "    L = []\n",
    "    totalSize = 0\n",
    "    totalValue = 0\n",
    "    \n",
    "    p = len(projects)\n",
    "    lim = sizeLimit\n",
    "    while p > 0:\n",
    "        if KS[p, lim] == KS[p-1, lim]: # This project is not part of the solution\n",
    "            p -= 1\n",
    "        else:\n",
    "            L.append(projectName(projects[p-1])) # Append this project\n",
    "            totalSize += projectSize(projects[p-1])\n",
    "            totalValue += projectValue(projects[p-1])\n",
    "            lim -= projectSize(projects[p-1]) # Go to the new remaining size\n",
    "            p -= 1\n",
    "\n",
    "    L.reverse()\n",
    "    return L, totalSize, totalValue"
   ]
  },
  {
   "cell_type": "code",
   "execution_count": 40,
   "metadata": {},
   "outputs": [
    {
     "name": "stdout",
     "output_type": "stream",
     "text": [
      "Selected projects:  ['A', 'C', 'F']\n",
      "Total of  31 man-month.\n",
      "Total of USD 12 millions.\n"
     ]
    }
   ],
   "source": [
    "projects, size, value = knapsack(exampleProjects, exampleSizeLimit)\n",
    "print(\"Selected projects: \", projects)\n",
    "print(\"Total of \", size, \"man-month.\")\n",
    "print(\"Total of USD\", value, \"millions.\")"
   ]
  },
  {
   "cell_type": "markdown",
   "metadata": {},
   "source": [
    "## 4. Conclusion\n",
    "\n",
    "Solve project selection in a business with a knapsack problem approach it is a simple way to maximize value from the investment. Of course, it is necessary to consider other aspects of the business, as strategy, synergy effect, etc. But it is an excellent start.\n",
    "\n",
    "Future work is testing the model with a real dataset. I will try to return in this code in a couple of weeks and do it."
   ]
  },
  {
   "cell_type": "markdown",
   "metadata": {},
   "source": [
    "## 5. References\n",
    "\n",
    "> Knapsack problem: https://en.wikipedia.org/wiki/Knapsack_problem\n",
    "\n",
    "> Knapsack step-by-step: https://www.youtube.com/watch?v=dN_gQYo9Uf8\n",
    "\n",
    "> Man-month: https://en.wiktionary.org/wiki/man-month"
   ]
  }
 ],
 "metadata": {
  "kernelspec": {
   "display_name": "Python 3",
   "language": "python",
   "name": "python3"
  },
  "language_info": {
   "codemirror_mode": {
    "name": "ipython",
    "version": 3
   },
   "file_extension": ".py",
   "mimetype": "text/x-python",
   "name": "python",
   "nbconvert_exporter": "python",
   "pygments_lexer": "ipython3",
   "version": "3.5.0"
  }
 },
 "nbformat": 4,
 "nbformat_minor": 2
}
