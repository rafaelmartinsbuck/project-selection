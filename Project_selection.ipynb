{
 "cells": [
  {
   "cell_type": "markdown",
   "metadata": {},
   "source": [
    "# Project selection in a business\n",
    "\n",
    "Solving project selection in a business with a knapsack problem approach.\n",
    "\n",
    "## 1. Introduction\n",
    "[TODO]\n",
    "\n",
    "## 2. Problem\n",
    "[TODO]\n",
    "\n",
    "## 3. Solution\n",
    "[TODO]"
   ]
  },
  {
   "cell_type": "markdown",
   "metadata": {},
   "source": [
    "### 3.1 Model"
   ]
  },
  {
   "cell_type": "code",
   "execution_count": 1,
   "metadata": {
    "collapsed": true
   },
   "outputs": [],
   "source": [
    "# Each project to be packed is represented as a set of triples (size, value, name)\n",
    "def projectSize(project): return project[0] # Size of the project in man-month\n",
    "def projectValue(project): return project[1] # Value of the project in USD million\n",
    "def projectName(project): return project[2] # Name of the project"
   ]
  },
  {
   "cell_type": "code",
   "execution_count": 11,
   "metadata": {
    "collapsed": true
   },
   "outputs": [],
   "source": [
    "# Example of business project portfolio\n",
    "exampleProjects = [(3, 3, 'A'),\n",
    "                   (4, 1, 'B'),\n",
    "                   (8, 3, 'C'),\n",
    "                   (10, 4, 'D'),\n",
    "                   (15, 3, 'E'),\n",
    "                   (20, 6, 'F')]\n",
    "\n",
    "# Example of team size in a period (one year for example)\n",
    "exampleSizeLimit = 32"
   ]
  },
  {
   "cell_type": "code",
   "execution_count": 67,
   "metadata": {},
   "outputs": [],
   "source": [
    "import pprint\n",
    "\n",
    "def knapsack(projects, sizeLimit):\n",
    "    '''\n",
    "    '''\n",
    "    # Dynamic programming to build the matrix\n",
    "    KS = {}\n",
    "    for p in range(len(projects) + 1): # 0 to number of projects\n",
    "        for lim in range(sizeLimit + 1): # 0 to sizeLimit\n",
    "            if p == 0: # For limit equals zero, the value must be zero\n",
    "                KS[p, lim] = 0\n",
    "            elif projectSize(projects[p - 1]) > lim: # If item p-1 size > item p size, then copy p-1 value\n",
    "                KS[p, lim] = KS[p-1, lim]\n",
    "            else:\n",
    "                KS[p, lim] = max(KS[p-1, lim],\n",
    "                                 KS[p-1, lim - projectSize(projects[p-1])] + projectValue(projects[p-1]))\n",
    "    \n",
    "    # List of selected items \n",
    "    L = []\n",
    "    totalSize = 0\n",
    "    totalValue = 0\n",
    "    nItems = len(projects)\n",
    "    lim = sizeLimit\n",
    "    while nItems > 0:\n",
    "        if KS[nItems, lim] == KS[nItems-1, lim]:\n",
    "            nItems -= 1\n",
    "        else:\n",
    "            nItems -= 1\n",
    "            L.append(projectName(projects[nItems]))\n",
    "            totalSize += projectSize(projects[nItems])\n",
    "            totalValue += projectValue(projects[nItems])\n",
    "            lim -= itemSize(projects[nItems])\n",
    "\n",
    "    L.reverse()\n",
    "    return L, totalSize, totalValue"
   ]
  },
  {
   "cell_type": "code",
   "execution_count": 68,
   "metadata": {},
   "outputs": [
    {
     "name": "stdout",
     "output_type": "stream",
     "text": [
      "Selected projects:  ['A', 'C', 'F']\n",
      "Total of  31 man-month.\n",
      "Total of USD 12 millions.\n"
     ]
    }
   ],
   "source": [
    "projects, size, value = knapsack(exampleProjects, exampleSizeLimit)\n",
    "print(\"Selected projects: \", projects)\n",
    "print(\"Total of \", size, \"man-month.\")\n",
    "print(\"Total of USD\", value, \"millions.\")"
   ]
  },
  {
   "cell_type": "markdown",
   "metadata": {},
   "source": [
    "## 4. Conclusion\n",
    "[TODO]"
   ]
  },
  {
   "cell_type": "markdown",
   "metadata": {},
   "source": [
    "## 5. References\n",
    "\n",
    "> Knapsack problem: https://en.wikipedia.org/wiki/Knapsack_problem\n",
    "\n",
    "> Knapsack step-by-step: https://www.youtube.com/watch?v=dN_gQYo9Uf8\n",
    "\n",
    "> Man-month: https://en.wiktionary.org/wiki/man-month"
   ]
  },
  {
   "cell_type": "code",
   "execution_count": null,
   "metadata": {
    "collapsed": true
   },
   "outputs": [],
   "source": []
  }
 ],
 "metadata": {
  "kernelspec": {
   "display_name": "Python 3",
   "language": "python",
   "name": "python3"
  },
  "language_info": {
   "codemirror_mode": {
    "name": "ipython",
    "version": 3
   },
   "file_extension": ".py",
   "mimetype": "text/x-python",
   "name": "python",
   "nbconvert_exporter": "python",
   "pygments_lexer": "ipython3",
   "version": "3.5.0"
  }
 },
 "nbformat": 4,
 "nbformat_minor": 2
}
